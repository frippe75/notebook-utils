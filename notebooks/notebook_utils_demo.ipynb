{
 "cells": [
  {
   "cell_type": "markdown",
   "metadata": {},
   "source": [
    "# Testing Notebook Utils\n",
    "\n",
    "This notebook demonstrates how to use the utilities provided by the `notebook-utils` package. We'll test both the inpainting and segmentation functionalities provided by the FaaS services.\n",
    "\n",
    "### Prerequisites\n",
    "Before running this notebook, ensure that you have:\n",
    "- The `notebook-utils` repository cloned and accessible.\n",
    "- Installed the required dependencies (`requests`, `opencv-python`, `numpy`).\n",
    "- Set up the necessary environment variables: `RUNPOD_API_KEY` and `RUNPOD_ENDPOINT_ID`."
   ]
  },
  {
   "cell_type": "markdown",
   "metadata": {},
   "source": [
    "## Step 1: Setup\n",
    "\n",
    "We'll start by importing the necessary functions from the `notebook-utils` package."
   ]
  },
  {
   "cell_type": "code",
   "execution_count": 1,
   "metadata": {},
   "outputs": [],
   "source": [
    "# Importing necessary functions from notebook-utils\n",
    "from cloud_service_utils.inpainting import inpaint_image_via_faas\n",
    "from cloud_service_utils.segmentation import segment_image_via_faas\n",
    "import cv2\n",
    "import os\n"
   ]
  },
  {
   "cell_type": "markdown",
   "metadata": {},
   "source": [
    "## Step 2: Load an Image\n",
    "\n",
    "Let's load an image that we'll use for testing both inpainting and segmentation."
   ]
  },
  {
   "cell_type": "code",
   "execution_count": 2,
   "metadata": {},
   "outputs": [],
   "source": [
    "# Load an image using OpenCV\n",
    "image_path = 'input_image.png'  # Make sure this image exists in your working directory\n",
    "image = cv2.imread(image_path)\n",
    "\n",
    "# Display the loaded image\n",
    "cv2.imshow('Loaded Image', image)\n",
    "cv2.waitKey(0)\n",
    "cv2.destroyAllWindows()"
   ]
  },
  {
   "cell_type": "markdown",
   "metadata": {},
   "source": [
    "## Step 3: Perform Segmentation\n",
    "\n",
    "We'll use the `segment_image_via_faas` function to segment specific objects from the image. For this example, let's assume we're interested in detecting objects such as 'person' and 'car'."
   ]
  },
  {
   "cell_type": "code",
   "execution_count": 3,
   "metadata": {},
   "outputs": [],
   "source": [
    "# Perform segmentation using the FaaS service\n",
    "class_names = ['person', 'car']  # Specify the object classes to detect\n",
    "segmentation_result = segment_image_via_faas(image=image, class_names=class_names, debug=True)\n",
    "\n",
    "# Process the result\n",
    "masks = segmentation_result['masks']\n",
    "bounding_boxes = segmentation_result['bounding_boxes']\n",
    "\n",
    "# Display the masks\n",
    "for i, mask in enumerate(masks):\n",
    "    cv2.imshow(f'Mask {i+1}', mask)\n",
    "\n",
    "cv2.waitKey(0)\n",
    "cv2.destroyAllWindows()"
   ]
  },
  {
   "cell_type": "markdown",
   "metadata": {},
   "source": [
    "## Step 4: Perform Inpainting\n",
    "\n",
    "Using the masks obtained from the segmentation, we'll inpaint the image to remove the detected objects."
   ]
  },
  {
   "cell_type": "code",
   "execution_count": 4,
   "metadata": {},
   "outputs": [],
   "source": [
    "# For simplicity, we'll use the first mask to remove the object from the image\n",
    "if masks:\n",
    "    result_image = inpaint_image_via_faas(image=image, mask=masks[0], debug=True)\n",
    "    \n",
    "    # Display the inpainted image\n",
    "    cv2.imshow('Inpainted Image', result_image)\n",
    "    cv2.waitKey(0)\n",
    "    cv2.destroyAllWindows()\n",
    "else:\n",
    "    print('No objects found for inpainting.')"
   ]
  },
  {
   "cell_type": "markdown",
   "metadata": {},
   "source": [
    "## Conclusion\n",
    "\n",
    "In this notebook, we:\n",
    "- Loaded an image.\n",
    "- Used the segmentation FaaS service to detect specific objects.\n",
    "- Inpainted the detected objects to remove them from the image.\n",
    "\n",
    "This demonstrates the power of combining inpainting and segmentation in a Jupyter notebook using the `notebook-utils` package."
   ]
  }
 ],
 "metadata": {
  "kernelspec": {
   "display_name": "Python 3",
   "language": "python",
   "name": "python3"
  },
  "language_info": {
   "codemirror_mode": {
    "name": "ipython",
    "version": 3
   },
   "file_extension": ".py",
   "mimetype": "text/x-python",
   "name": "python",
   "nbconvert_exporter": "python",
   "version": "3.8.10"
  }
 },
 "nbformat": 4,
 "nbformat_minor": 4
}

