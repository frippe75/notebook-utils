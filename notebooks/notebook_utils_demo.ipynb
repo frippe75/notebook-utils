{
  "cells": [
    {
      "cell_type": "markdown",
      "metadata": {
        "id": "view-in-github",
        "colab_type": "text"
      },
      "source": [
        "<a href=\"https://colab.research.google.com/github/frippe75/notebook-utils/blob/main/notebooks/notebook_utils_demo.ipynb\" target=\"_parent\"><img src=\"https://colab.research.google.com/assets/colab-badge.svg\" alt=\"Open In Colab\"/></a>"
      ]
    },
    {
      "cell_type": "markdown",
      "metadata": {
        "id": "DDO7rQ9lTGmi"
      },
      "source": [
        "# Testing Notebook Utils\n",
        "\n",
        "This notebook demonstrates how to use the utilities provided by the `notebook-utils` package. We'll test both the inpainting and segmentation functionalities provided by the FaaS services.\n",
        "\n",
        "### Prerequisites\n",
        "Before running this notebook, ensure that you have:\n",
        "- The `notebook-utils` repository cloned and accessible.\n",
        "- Installed the required dependencies (`requests`, `opencv-python`, `numpy`).\n",
        "- Set up the necessary environment variables: `RUNPOD_API_KEY` and `RUNPOD_ENDPOINT_ID`."
      ]
    },
    {
      "cell_type": "markdown",
      "metadata": {
        "id": "V1o749pjTGmj"
      },
      "source": [
        "## Step 1: Setup\n",
        "\n",
        "We'll start by importing the necessary functions from the `notebook-utils` package."
      ]
    },
    {
      "cell_type": "code",
      "execution_count": 6,
      "metadata": {
        "colab": {
          "base_uri": "https://localhost:8080/"
        },
        "id": "oak9yVf-TGmj",
        "outputId": "3b27f5de-61f9-48d8-bef2-c1411be558bb"
      },
      "outputs": [
        {
          "output_type": "stream",
          "name": "stdout",
          "text": [
            "Cloning into '/content/notebook-utils'...\n",
            "remote: Enumerating objects: 30, done.\u001b[K\n",
            "remote: Counting objects:   3% (1/30)\u001b[K\rremote: Counting objects:   6% (2/30)\u001b[K\rremote: Counting objects:  10% (3/30)\u001b[K\rremote: Counting objects:  13% (4/30)\u001b[K\rremote: Counting objects:  16% (5/30)\u001b[K\rremote: Counting objects:  20% (6/30)\u001b[K\rremote: Counting objects:  23% (7/30)\u001b[K\rremote: Counting objects:  26% (8/30)\u001b[K\rremote: Counting objects:  30% (9/30)\u001b[K\rremote: Counting objects:  33% (10/30)\u001b[K\rremote: Counting objects:  36% (11/30)\u001b[K\rremote: Counting objects:  40% (12/30)\u001b[K\rremote: Counting objects:  43% (13/30)\u001b[K\rremote: Counting objects:  46% (14/30)\u001b[K\rremote: Counting objects:  50% (15/30)\u001b[K\rremote: Counting objects:  53% (16/30)\u001b[K\rremote: Counting objects:  56% (17/30)\u001b[K\rremote: Counting objects:  60% (18/30)\u001b[K\rremote: Counting objects:  63% (19/30)\u001b[K\rremote: Counting objects:  66% (20/30)\u001b[K\rremote: Counting objects:  70% (21/30)\u001b[K\rremote: Counting objects:  73% (22/30)\u001b[K\rremote: Counting objects:  76% (23/30)\u001b[K\rremote: Counting objects:  80% (24/30)\u001b[K\rremote: Counting objects:  83% (25/30)\u001b[K\rremote: Counting objects:  86% (26/30)\u001b[K\rremote: Counting objects:  90% (27/30)\u001b[K\rremote: Counting objects:  93% (28/30)\u001b[K\rremote: Counting objects:  96% (29/30)\u001b[K\rremote: Counting objects: 100% (30/30)\u001b[K\rremote: Counting objects: 100% (30/30), done.\u001b[K\n",
            "remote: Compressing objects: 100% (22/22), done.\u001b[K\n",
            "remote: Total 30 (delta 7), reused 26 (delta 6), pack-reused 0\u001b[K\n",
            "Receiving objects: 100% (30/30), 5.38 MiB | 15.77 MiB/s, done.\n",
            "Resolving deltas: 100% (7/7), done.\n",
            "Modules imported successfully.\n"
          ]
        }
      ],
      "source": [
        "import sys\n",
        "import os\n",
        "\n",
        "# Verify that the repository path is correctly set\n",
        "repo_path = '/content/notebook-utils'  # Adjust this path if necessary\n",
        "\n",
        "!rm -rf $repo_path\n",
        "# Git clone to that repo path\n",
        "!git clone https://github.com/frippe75/notebook-utils.git $repo_path\n",
        "\n",
        "# Add the repo path to the Python path\n",
        "sys.path.append(repo_path)\n",
        "\n",
        "# Import the functions from your cloned repository\n",
        "from cloud_service_utils.inpainting import inpaint_image_via_faas\n",
        "from cloud_service_utils.segmentation import segment_image_via_faas\n",
        "\n",
        "# Set the RUN from ENV\n",
        "\n",
        "os.environ['RUNPOD_API_KEY'] =\n",
        "\n"
      ]
    },
    {
      "cell_type": "markdown",
      "metadata": {
        "id": "-RPV8ZNbTrYt"
      },
      "source": [
        "## Step 1: Setup\n",
        "\n",
        "We'll start by importing the necessary functions from the `notebook-utils` package."
      ]
    },
    {
      "cell_type": "code",
      "execution_count": 7,
      "metadata": {
        "outputId": "faf2cd48-9891-4da9-bd4d-981c1d2e88d2",
        "colab": {
          "base_uri": "https://localhost:8080/"
        },
        "id": "LTl9wl-UTrYu"
      },
      "outputs": [
        {
          "output_type": "stream",
          "name": "stdout",
          "text": [
            "Cloning into '/content/notebook-utils'...\n",
            "remote: Enumerating objects: 30, done.\u001b[K\n",
            "remote: Counting objects: 100% (30/30), done.\u001b[K\n",
            "remote: Compressing objects: 100% (22/22), done.\u001b[K\n",
            "remote: Total 30 (delta 7), reused 26 (delta 6), pack-reused 0\u001b[K\n",
            "Receiving objects: 100% (30/30), 5.38 MiB | 18.17 MiB/s, done.\n",
            "Resolving deltas: 100% (7/7), done.\n"
          ]
        }
      ],
      "source": [
        "import sys\n",
        "import os\n",
        "\n",
        "# Verify that the repository path is correctly set\n",
        "repo_path = '/content/notebook-utils'  # Adjust this path if necessary\n",
        "\n",
        "!rm -rf $repo_path\n",
        "# Git clone to that repo path\n",
        "!git clone https://github.com/frippe75/notebook-utils.git $repo_path\n",
        "\n",
        "# Add the repo path to the Python path\n",
        "sys.path.append(repo_path)\n",
        "\n",
        "# Import the functions from your cloned repository\n",
        "from cloud_service_utils.inpainting import inpaint_image_via_faas\n",
        "from cloud_service_utils.segmentation import segment_image_via_faas\n",
        "\n",
        "# Set the RUN from ENV\n",
        "from google.colab import userdata\n",
        "os.environ['RUNPOD_API_KEY'] = userdata.get('RUNPOD_API_KEY')\n",
        "\n"
      ]
    },
    {
      "cell_type": "markdown",
      "metadata": {
        "id": "LXX_JSJiTGmk"
      },
      "source": [
        "## Step 2: Load an Image\n",
        "\n",
        "Let's load an image that we'll use for testing both inpainting and segmentation."
      ]
    },
    {
      "cell_type": "code",
      "execution_count": null,
      "metadata": {
        "id": "sP-RSBvETGmk"
      },
      "outputs": [],
      "source": [
        "# Load an image using OpenCV\n",
        "image_path = 'input_image.png'  # Make sure this image exists in your working directory\n",
        "image = cv2.imread(image_path)\n",
        "\n",
        "# Display the loaded image\n",
        "cv2.imshow('Loaded Image', image)\n",
        "cv2.waitKey(0)\n",
        "cv2.destroyAllWindows()"
      ]
    },
    {
      "cell_type": "markdown",
      "metadata": {
        "id": "ObicF7v2TGmk"
      },
      "source": [
        "## Step 3: Perform Segmentation\n",
        "\n",
        "We'll use the `segment_image_via_faas` function to segment specific objects from the image. For this example, let's assume we're interested in detecting objects such as 'person' and 'car'."
      ]
    },
    {
      "cell_type": "code",
      "execution_count": null,
      "metadata": {
        "id": "dupdRpwJTGmk"
      },
      "outputs": [],
      "source": [
        "# Perform segmentation using the FaaS service\n",
        "class_names = ['person', 'car']  # Specify the object classes to detect\n",
        "segmentation_result = segment_image_via_faas(image=image, class_names=class_names, debug=True)\n",
        "\n",
        "# Process the result\n",
        "masks = segmentation_result['masks']\n",
        "bounding_boxes = segmentation_result['bounding_boxes']\n",
        "\n",
        "# Display the masks\n",
        "for i, mask in enumerate(masks):\n",
        "    cv2.imshow(f'Mask {i+1}', mask)\n",
        "\n",
        "cv2.waitKey(0)\n",
        "cv2.destroyAllWindows()"
      ]
    },
    {
      "cell_type": "markdown",
      "metadata": {
        "id": "TgNvN2G_TGml"
      },
      "source": [
        "## Step 4: Perform Inpainting\n",
        "\n",
        "Using the masks obtained from the segmentation, we'll inpaint the image to remove the detected objects."
      ]
    },
    {
      "cell_type": "code",
      "execution_count": null,
      "metadata": {
        "id": "cN112Tp_TGml"
      },
      "outputs": [],
      "source": [
        "# For simplicity, we'll use the first mask to remove the object from the image\n",
        "if masks:\n",
        "    result_image = inpaint_image_via_faas(image=image, mask=masks[0], debug=True)\n",
        "\n",
        "    # Display the inpainted image\n",
        "    cv2.imshow('Inpainted Image', result_image)\n",
        "    cv2.waitKey(0)\n",
        "    cv2.destroyAllWindows()\n",
        "else:\n",
        "    print('No objects found for inpainting.')"
      ]
    },
    {
      "cell_type": "markdown",
      "metadata": {
        "id": "aVGEgKU0TGml"
      },
      "source": [
        "## Conclusion\n",
        "\n",
        "In this notebook, we:\n",
        "- Loaded an image.\n",
        "- Used the segmentation FaaS service to detect specific objects.\n",
        "- Inpainted the detected objects to remove them from the image.\n",
        "\n",
        "This demonstrates the power of combining inpainting and segmentation in a Jupyter notebook using the `notebook-utils` package."
      ]
    }
  ],
  "metadata": {
    "kernelspec": {
      "display_name": "Python 3",
      "language": "python",
      "name": "python3"
    },
    "language_info": {
      "codemirror_mode": {
        "name": "ipython",
        "version": 3
      },
      "file_extension": ".py",
      "mimetype": "text/x-python",
      "name": "python",
      "nbconvert_exporter": "python",
      "version": "3.8.10"
    },
    "colab": {
      "provenance": [],
      "include_colab_link": true
    }
  },
  "nbformat": 4,
  "nbformat_minor": 0
}